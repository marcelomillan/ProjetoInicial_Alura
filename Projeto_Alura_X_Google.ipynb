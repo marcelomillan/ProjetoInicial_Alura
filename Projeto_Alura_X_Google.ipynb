{
  "cells": [
    {
      "cell_type": "markdown",
      "metadata": {
        "id": "view-in-github",
        "colab_type": "text"
      },
      "source": [
        "<a href=\"https://colab.research.google.com/github/marcelomillan/ProjetoInicial_Alura/blob/main/Projeto_Alura_X_Google.ipynb\" target=\"_parent\"><img src=\"https://colab.research.google.com/assets/colab-badge.svg\" alt=\"Open In Colab\"/></a>"
      ]
    },
    {
      "cell_type": "code",
      "execution_count": 19,
      "metadata": {
        "colab": {
          "base_uri": "https://localhost:8080/"
        },
        "id": "UZ-LKjQjNh9w",
        "outputId": "debe2e0f-c9d6-49bd-d4c8-f093fbf26fc2"
      },
      "outputs": [
        {
          "name": "stdout",
          "output_type": "stream",
          "text": [
            "Digite o nome da peça (ou 'sair' para terminar): sair\n"
          ]
        }
      ],
      "source": [
        "import pandas as pd\n",
        "\n",
        "# Carregar o arquivo CSV\n",
        "df = pd.read_csv(\"pecas.csv\")\n",
        "\n",
        "# Loop\n",
        "while True:\n",
        "    # Obter o nome da peça, modelo e ano do carro do usuário\n",
        "    nome_peca = input(\"Digite o nome da peça (ou 'sair' para terminar): \").lower()\n",
        "    if nome_peca == 'sair':\n",
        "        break\n",
        "\n",
        "    modelo_carro = input(\"Digite o modelo do carro: \").lower()\n",
        "    ano_carro = input(\"Digite o ano do carro: \")\n",
        "\n",
        "    # Filtrar DataFrame\n",
        "    pecas_encontradas = df[\n",
        "        (df[\"nome peca\"].str.lower().str.contains(nome_peca)) &\n",
        "        (df[\"modelo do carro\"].str.lower().str.contains(modelo_carro))\n",
        "    ]\n",
        "\n",
        "    # Filtrar as peças pelo ano do carro\n",
        "    pecas_ano = []\n",
        "    for index, row in pecas_encontradas.iterrows():\n",
        "        anos = [int(ano.strip()) for ano in row[\"ano do carro\"].split(\",\")]\n",
        "        if int(ano_carro) in anos:\n",
        "            pecas_ano.append(row)\n",
        "\n",
        "    # Imprimir as informações das peças em formato de tabela\n",
        "    if pecas_ano:\n",
        "        print(\"\\nPeças encontradas:\\n\")\n",
        "        print(\"+\" + \"-\" * 78 + \"+\")\n",
        "        print(\"| {:<25} | {:<15} | {:<20} | {:<10} |\".format(\"Nome da Peça\", \"Código da Peça\", \"Modelo do Carro\", \"Ano do Carro\"))\n",
        "        print(\"+\" + \"-\" * 78 + \"+\")\n",
        "        for peca in pecas_ano:\n",
        "            print(\"| {:<25} | \\033[1m{:<15}\\033[0m | {:<20} | {:<10} |\".format(\n",
        "                peca[\"nome peca\"],\n",
        "                peca[\"codigo da peca\"],\n",
        "                peca[\"modelo do carro\"],\n",
        "                peca[\"ano do carro\"]))\n",
        "        print(\"+\" + \"-\" * 78 + \"+\")\n",
        "    else:\n",
        "        print(\"\\nNenhuma peça encontrada.\\n\")"
      ]
    }
  ],
  "metadata": {
    "colab": {
      "provenance": [],
      "authorship_tag": "ABX9TyMcX8D2r5JDY5M+ydRYjjKa",
      "include_colab_link": true
    },
    "kernelspec": {
      "display_name": "Python 3",
      "name": "python3"
    },
    "language_info": {
      "name": "python"
    }
  },
  "nbformat": 4,
  "nbformat_minor": 0
}